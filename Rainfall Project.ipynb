version https://git-lfs.github.com/spec/v1
oid sha256:59af63f9e2620c7580a4fc6603c2e1edcf1c71a86bcbc6c48655f02107156c70
size 59046762
